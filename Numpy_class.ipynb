{
 "cells": [
  {
   "cell_type": "code",
   "execution_count": 1,
   "id": "05646fa8-9223-4f9a-af97-97e02bd712d8",
   "metadata": {},
   "outputs": [],
   "source": [
    "import numpy as np"
   ]
  },
  {
   "cell_type": "code",
   "execution_count": 2,
   "id": "5cfc3ff1-be9f-46a7-978c-38f348b88526",
   "metadata": {},
   "outputs": [],
   "source": [
    "# 1D Array\n",
    "#syntax: np.array([values])"
   ]
  },
  {
   "cell_type": "code",
   "execution_count": 3,
   "id": "d006f673-d268-40a1-9ccb-dcf348bfda4f",
   "metadata": {},
   "outputs": [
    {
     "data": {
      "text/plain": [
       "array([1, 2, 3, 4, 5])"
      ]
     },
     "execution_count": 3,
     "metadata": {},
     "output_type": "execute_result"
    }
   ],
   "source": [
    "a1=np.array([1,2,3,4,5])\n",
    "a1"
   ]
  },
  {
   "cell_type": "code",
   "execution_count": 4,
   "id": "a486df5b-53c6-4874-94be-87ebd841816a",
   "metadata": {},
   "outputs": [
    {
     "data": {
      "text/plain": [
       "array([1.1, 2.2, 3.3, 4.5, 5.5])"
      ]
     },
     "execution_count": 4,
     "metadata": {},
     "output_type": "execute_result"
    }
   ],
   "source": [
    "a2=np.array([1.1,2.2,3.3,4.5,5.5])\n",
    "a2"
   ]
  },
  {
   "cell_type": "code",
   "execution_count": 5,
   "id": "539e345b-f474-4f1a-9e55-1e3236637990",
   "metadata": {},
   "outputs": [
    {
     "data": {
      "text/plain": [
       "array([1. , 2. , 3. , 4. , 5.5])"
      ]
     },
     "execution_count": 5,
     "metadata": {},
     "output_type": "execute_result"
    }
   ],
   "source": [
    "a3=np.array([1,2,3,4,5.5])\n",
    "a3"
   ]
  },
  {
   "cell_type": "code",
   "execution_count": 6,
   "id": "51f1fb42-fe60-491a-b7c8-18ba98d3a88f",
   "metadata": {},
   "outputs": [
    {
     "data": {
      "text/plain": [
       "array(['1', '2', '3.3', 'hi'], dtype='<U3')"
      ]
     },
     "execution_count": 6,
     "metadata": {},
     "output_type": "execute_result"
    }
   ],
   "source": [
    "a4=np.array(['1','2','3.3',\"hi\"])\n",
    "a4"
   ]
  },
  {
   "cell_type": "code",
   "execution_count": 7,
   "id": "be9b2ffd-171b-4b71-9365-21fa4d42a0ba",
   "metadata": {},
   "outputs": [
    {
     "data": {
      "text/plain": [
       "array([1, 2, 3])"
      ]
     },
     "execution_count": 7,
     "metadata": {},
     "output_type": "execute_result"
    }
   ],
   "source": [
    "a5=np.array([1,2,3.3],'int')\n",
    "a5"
   ]
  },
  {
   "cell_type": "code",
   "execution_count": 8,
   "id": "8920dc2b-7c99-470b-8138-069beb91a989",
   "metadata": {},
   "outputs": [
    {
     "data": {
      "text/plain": [
       "array([1. , 2. , 3.3])"
      ]
     },
     "execution_count": 8,
     "metadata": {},
     "output_type": "execute_result"
    }
   ],
   "source": [
    "a6=np.array([1,2,3.3],'float')\n",
    "a6"
   ]
  },
  {
   "cell_type": "code",
   "execution_count": 9,
   "id": "43cd2f8f-604b-492c-869d-8c71fcbba180",
   "metadata": {},
   "outputs": [
    {
     "data": {
      "text/plain": [
       "array([1, 2, 3, 4, 5])"
      ]
     },
     "execution_count": 9,
     "metadata": {},
     "output_type": "execute_result"
    }
   ],
   "source": [
    "l1=[1,2,3,4,5]\n",
    "l1=np.array(l1)\n",
    "l1"
   ]
  },
  {
   "cell_type": "code",
   "execution_count": 10,
   "id": "3ddc6b32-d231-4d19-9056-254bdaf930a1",
   "metadata": {},
   "outputs": [
    {
     "data": {
      "text/plain": [
       "1"
      ]
     },
     "execution_count": 10,
     "metadata": {},
     "output_type": "execute_result"
    }
   ],
   "source": [
    "# Array operations\n",
    "#ndim\n",
    "\n",
    "a1.ndim"
   ]
  },
  {
   "cell_type": "code",
   "execution_count": 11,
   "id": "c5d0410c-7435-4fcc-bcd0-19b1d1c1272d",
   "metadata": {},
   "outputs": [
    {
     "data": {
      "text/plain": [
       "5"
      ]
     },
     "execution_count": 11,
     "metadata": {},
     "output_type": "execute_result"
    }
   ],
   "source": [
    "#size\n",
    "a1.size"
   ]
  },
  {
   "cell_type": "code",
   "execution_count": 12,
   "id": "fa1b1a1f-8a7e-4f66-8aa8-266659d8f7de",
   "metadata": {},
   "outputs": [
    {
     "data": {
      "text/plain": [
       "dtype('int32')"
      ]
     },
     "execution_count": 12,
     "metadata": {},
     "output_type": "execute_result"
    }
   ],
   "source": [
    "a1.dtype"
   ]
  },
  {
   "cell_type": "code",
   "execution_count": 13,
   "id": "5c26fec0-5c08-45de-8185-d0cb7c426ebe",
   "metadata": {},
   "outputs": [
    {
     "data": {
      "text/plain": [
       "dtype('float64')"
      ]
     },
     "execution_count": 13,
     "metadata": {},
     "output_type": "execute_result"
    }
   ],
   "source": [
    "a6.dtype"
   ]
  },
  {
   "cell_type": "code",
   "execution_count": 14,
   "id": "aae7976a-70c0-4ddc-8f39-335c51cd7887",
   "metadata": {},
   "outputs": [
    {
     "data": {
      "text/plain": [
       "(5,)"
      ]
     },
     "execution_count": 14,
     "metadata": {},
     "output_type": "execute_result"
    }
   ],
   "source": [
    "# shape\n",
    "a1.shape"
   ]
  },
  {
   "cell_type": "code",
   "execution_count": 15,
   "id": "aef2c106-bbab-4fca-9f4f-932aba54cd4d",
   "metadata": {},
   "outputs": [
    {
     "data": {
      "text/plain": [
       "(3,)"
      ]
     },
     "execution_count": 15,
     "metadata": {},
     "output_type": "execute_result"
    }
   ],
   "source": [
    "a6.shape"
   ]
  },
  {
   "cell_type": "code",
   "execution_count": 16,
   "id": "19e4cd59-9489-4943-9a72-89ecdebeb7fe",
   "metadata": {},
   "outputs": [
    {
     "data": {
      "text/plain": [
       "(5,)"
      ]
     },
     "execution_count": 16,
     "metadata": {},
     "output_type": "execute_result"
    }
   ],
   "source": [
    "l1.shape"
   ]
  },
  {
   "cell_type": "code",
   "execution_count": 17,
   "id": "b2b6e78e-c5be-4ccb-8ae5-61d458aacb0d",
   "metadata": {},
   "outputs": [],
   "source": [
    "# 2D array\n",
    "# syntax: np.array([[]])"
   ]
  },
  {
   "cell_type": "code",
   "execution_count": 18,
   "id": "0b137ed3-ffb7-4f44-b2ea-a6a924ef5ee1",
   "metadata": {},
   "outputs": [
    {
     "data": {
      "text/plain": [
       "array([[1, 2, 3, 4, 5]])"
      ]
     },
     "execution_count": 18,
     "metadata": {},
     "output_type": "execute_result"
    }
   ],
   "source": [
    "a7=np.array([[1,2,3,4,5]])\n",
    "a7"
   ]
  },
  {
   "cell_type": "code",
   "execution_count": 19,
   "id": "22458524-27da-48bc-b2eb-ae88ab4d9893",
   "metadata": {},
   "outputs": [
    {
     "data": {
      "text/plain": [
       "2"
      ]
     },
     "execution_count": 19,
     "metadata": {},
     "output_type": "execute_result"
    }
   ],
   "source": [
    "a7.ndim"
   ]
  },
  {
   "cell_type": "code",
   "execution_count": 20,
   "id": "7392084e-4174-44ec-8938-66444f3b2651",
   "metadata": {},
   "outputs": [
    {
     "data": {
      "text/plain": [
       "array([[1, 2, 3],\n",
       "       [4, 5, 6],\n",
       "       [7, 8, 9]])"
      ]
     },
     "execution_count": 20,
     "metadata": {},
     "output_type": "execute_result"
    }
   ],
   "source": [
    "a8=np.array([[1,2,3,],[4,5,6],[7,8,9]])\n",
    "a8"
   ]
  },
  {
   "cell_type": "code",
   "execution_count": 21,
   "id": "893fc4d6-26f3-423a-981d-1ef3de4254c0",
   "metadata": {},
   "outputs": [
    {
     "data": {
      "text/plain": [
       "2"
      ]
     },
     "execution_count": 21,
     "metadata": {},
     "output_type": "execute_result"
    }
   ],
   "source": [
    "a8.ndim"
   ]
  },
  {
   "cell_type": "code",
   "execution_count": 22,
   "id": "fd69e3b2-d287-4f06-8680-52f2b3987b0d",
   "metadata": {},
   "outputs": [
    {
     "data": {
      "text/plain": [
       "array([[1. , 2. , 3. , 4. , 5. ],\n",
       "       [4. , 5. , 6. , 7. , 8. ],\n",
       "       [7. , 8. , 9. , 7. , 8. ],\n",
       "       [1. , 5. , 6.6, 7. , 9. ]])"
      ]
     },
     "execution_count": 22,
     "metadata": {},
     "output_type": "execute_result"
    }
   ],
   "source": [
    "a9=np.array([[1,2,3,4,5],[4,5,6,7,8],[7,8,9,7,8],[1,5,6.6,7,9]])\n",
    "a9"
   ]
  },
  {
   "cell_type": "code",
   "execution_count": 23,
   "id": "13240ec8-bba9-4586-ab06-8c0bad81ee4f",
   "metadata": {},
   "outputs": [
    {
     "data": {
      "text/plain": [
       "2"
      ]
     },
     "execution_count": 23,
     "metadata": {},
     "output_type": "execute_result"
    }
   ],
   "source": [
    "a9.ndim"
   ]
  },
  {
   "cell_type": "code",
   "execution_count": 24,
   "id": "b57cc72d-4662-4c88-8434-3331d8e392a1",
   "metadata": {},
   "outputs": [
    {
     "data": {
      "text/plain": [
       "dtype('float64')"
      ]
     },
     "execution_count": 24,
     "metadata": {},
     "output_type": "execute_result"
    }
   ],
   "source": [
    "a9.dtype"
   ]
  },
  {
   "cell_type": "code",
   "execution_count": 25,
   "id": "ea78ac0f-93eb-4e20-9a62-ca400a96f038",
   "metadata": {},
   "outputs": [
    {
     "data": {
      "text/plain": [
       "20"
      ]
     },
     "execution_count": 25,
     "metadata": {},
     "output_type": "execute_result"
    }
   ],
   "source": [
    "a9.size"
   ]
  },
  {
   "cell_type": "code",
   "execution_count": 26,
   "id": "ded86a16-b08e-4b1a-9571-de80634cefa6",
   "metadata": {},
   "outputs": [
    {
     "data": {
      "text/plain": [
       "9"
      ]
     },
     "execution_count": 26,
     "metadata": {},
     "output_type": "execute_result"
    }
   ],
   "source": [
    "a8.size"
   ]
  },
  {
   "cell_type": "code",
   "execution_count": 27,
   "id": "f6f81eef-51f2-4368-9764-6fa36c233c20",
   "metadata": {},
   "outputs": [
    {
     "data": {
      "text/plain": [
       "(3, 3)"
      ]
     },
     "execution_count": 27,
     "metadata": {},
     "output_type": "execute_result"
    }
   ],
   "source": [
    "a8.shape"
   ]
  },
  {
   "cell_type": "code",
   "execution_count": 28,
   "id": "aefc8268-9606-4a8e-809d-779db1af8676",
   "metadata": {},
   "outputs": [
    {
     "data": {
      "text/plain": [
       "(4, 5)"
      ]
     },
     "execution_count": 28,
     "metadata": {},
     "output_type": "execute_result"
    }
   ],
   "source": [
    "a9.shape"
   ]
  },
  {
   "cell_type": "code",
   "execution_count": 29,
   "id": "0b33a41b-e167-4c41-b78c-980569c6a01a",
   "metadata": {},
   "outputs": [],
   "source": [
    "# Array Function\n",
    "# synatx: np.zeros((shape))"
   ]
  },
  {
   "cell_type": "code",
   "execution_count": 30,
   "id": "3e411f79-4065-42bd-b770-e32107528b25",
   "metadata": {},
   "outputs": [
    {
     "data": {
      "text/plain": [
       "array([[0, 0, 0],\n",
       "       [0, 0, 0],\n",
       "       [0, 0, 0]])"
      ]
     },
     "execution_count": 30,
     "metadata": {},
     "output_type": "execute_result"
    }
   ],
   "source": [
    "a10=np.zeros([3,3],int)\n",
    "a10"
   ]
  },
  {
   "cell_type": "code",
   "execution_count": 31,
   "id": "0b9fe7bd-291e-4cfa-a977-12b329e1cc83",
   "metadata": {},
   "outputs": [
    {
     "data": {
      "text/plain": [
       "array([[0., 0., 0., 0., 0., 0., 0., 0., 0., 0.],\n",
       "       [0., 0., 0., 0., 0., 0., 0., 0., 0., 0.],\n",
       "       [0., 0., 0., 0., 0., 0., 0., 0., 0., 0.],\n",
       "       [0., 0., 0., 0., 0., 0., 0., 0., 0., 0.],\n",
       "       [0., 0., 0., 0., 0., 0., 0., 0., 0., 0.]])"
      ]
     },
     "execution_count": 31,
     "metadata": {},
     "output_type": "execute_result"
    }
   ],
   "source": [
    "a10=np.zeros([5,10],float)\n",
    "a10"
   ]
  },
  {
   "cell_type": "code",
   "execution_count": 32,
   "id": "effadc7c-ab56-47e3-a012-ee2180db0a2e",
   "metadata": {},
   "outputs": [
    {
     "data": {
      "text/plain": [
       "array([[1, 1, 1],\n",
       "       [1, 1, 1],\n",
       "       [1, 1, 1]])"
      ]
     },
     "execution_count": 32,
     "metadata": {},
     "output_type": "execute_result"
    }
   ],
   "source": [
    "a11=np.ones([3,3],int)\n",
    "a11"
   ]
  },
  {
   "cell_type": "code",
   "execution_count": 33,
   "id": "63995fdc-48f0-4ecc-817a-d7b242303cb2",
   "metadata": {},
   "outputs": [],
   "source": [
    "# np.full((3,2),5)"
   ]
  },
  {
   "cell_type": "code",
   "execution_count": 34,
   "id": "77e33aa8-4e37-451a-96c7-416d14162616",
   "metadata": {},
   "outputs": [
    {
     "data": {
      "text/plain": [
       "array([[5, 5, 5],\n",
       "       [5, 5, 5],\n",
       "       [5, 5, 5]])"
      ]
     },
     "execution_count": 34,
     "metadata": {},
     "output_type": "execute_result"
    }
   ],
   "source": [
    "a12=np.full([3,3],5)\n",
    "a12"
   ]
  },
  {
   "cell_type": "code",
   "execution_count": 35,
   "id": "c28a839d-b5bd-4c73-bb87-b8f00bb94865",
   "metadata": {},
   "outputs": [],
   "source": [
    "# Mathematical Function"
   ]
  },
  {
   "cell_type": "code",
   "execution_count": 36,
   "id": "2dfd0617-52d4-4792-9bd5-3596ed34cace",
   "metadata": {},
   "outputs": [],
   "source": [
    "import numpy as np"
   ]
  },
  {
   "cell_type": "code",
   "execution_count": 37,
   "id": "2402143b-940e-46e3-aaf2-f5873c376eb9",
   "metadata": {},
   "outputs": [],
   "source": [
    "a1= np.array([2,3,4,])\n",
    "a2=np.array([5,6,1])"
   ]
  },
  {
   "cell_type": "code",
   "execution_count": 38,
   "id": "4be7a84a-9119-44e1-9208-ccc40945ed79",
   "metadata": {},
   "outputs": [
    {
     "data": {
      "text/plain": [
       "9"
      ]
     },
     "execution_count": 38,
     "metadata": {},
     "output_type": "execute_result"
    }
   ],
   "source": [
    "np.sum(a1)"
   ]
  },
  {
   "cell_type": "code",
   "execution_count": 39,
   "id": "c3f99ae0-2fd5-4c4b-a755-6144b044c072",
   "metadata": {},
   "outputs": [
    {
     "data": {
      "text/plain": [
       "12"
      ]
     },
     "execution_count": 39,
     "metadata": {},
     "output_type": "execute_result"
    }
   ],
   "source": [
    "np.sum(a2)"
   ]
  },
  {
   "cell_type": "code",
   "execution_count": 40,
   "id": "fbfdf643-5183-46fa-8cce-c3ad8ae4c137",
   "metadata": {},
   "outputs": [
    {
     "data": {
      "text/plain": [
       "21"
      ]
     },
     "execution_count": 40,
     "metadata": {},
     "output_type": "execute_result"
    }
   ],
   "source": [
    "np.sum([a1,a2])"
   ]
  },
  {
   "cell_type": "code",
   "execution_count": 41,
   "id": "5d7080a2-1656-494d-bc2c-354deac1149d",
   "metadata": {},
   "outputs": [
    {
     "data": {
      "text/plain": [
       "array([7, 9, 5])"
      ]
     },
     "execution_count": 41,
     "metadata": {},
     "output_type": "execute_result"
    }
   ],
   "source": [
    "np.sum([a1,a2],axis=0)"
   ]
  },
  {
   "cell_type": "code",
   "execution_count": 42,
   "id": "c47b728b-c68d-4c50-bba4-b7f13ead83fe",
   "metadata": {},
   "outputs": [
    {
     "data": {
      "text/plain": [
       "array([ 9, 12])"
      ]
     },
     "execution_count": 42,
     "metadata": {},
     "output_type": "execute_result"
    }
   ],
   "source": [
    "np.sum([a1,a2],axis=1)"
   ]
  },
  {
   "cell_type": "code",
   "execution_count": 43,
   "id": "cdb5d069-c685-4b35-a5c5-c071e34fca60",
   "metadata": {},
   "outputs": [
    {
     "data": {
      "text/plain": [
       "array([-3, -3,  3])"
      ]
     },
     "execution_count": 43,
     "metadata": {},
     "output_type": "execute_result"
    }
   ],
   "source": [
    "#a1=np.array([2,3,4])\n",
    "#a2=np.array([5,6,1])\n",
    "np.subtract(a1,a2)"
   ]
  },
  {
   "cell_type": "code",
   "execution_count": 44,
   "id": "705fc612-e6ba-4f7e-9d04-df35754675de",
   "metadata": {},
   "outputs": [
    {
     "data": {
      "text/plain": [
       "array([10, 18,  4])"
      ]
     },
     "execution_count": 44,
     "metadata": {},
     "output_type": "execute_result"
    }
   ],
   "source": [
    "np.multiply(a1,a2)"
   ]
  },
  {
   "cell_type": "code",
   "execution_count": 45,
   "id": "a08eefd4-4139-4f22-b5d3-ea1b60474334",
   "metadata": {},
   "outputs": [
    {
     "data": {
      "text/plain": [
       "array([0.4, 0.5, 4. ])"
      ]
     },
     "execution_count": 45,
     "metadata": {},
     "output_type": "execute_result"
    }
   ],
   "source": [
    "np.divide(a1,a2)"
   ]
  },
  {
   "cell_type": "code",
   "execution_count": 46,
   "id": "33a5801e-3377-4972-804f-7fdd4f92583d",
   "metadata": {},
   "outputs": [],
   "source": [
    "# Additional func\n",
    "#arange"
   ]
  },
  {
   "cell_type": "code",
   "execution_count": 47,
   "id": "39d6b56a-c4ee-4083-ace0-063e2d9f0411",
   "metadata": {},
   "outputs": [
    {
     "data": {
      "text/plain": [
       "array([0, 1, 2, 3, 4, 5, 6, 7, 8, 9])"
      ]
     },
     "execution_count": 47,
     "metadata": {},
     "output_type": "execute_result"
    }
   ],
   "source": [
    "# np.arange()\n",
    "np.arange(10)"
   ]
  },
  {
   "cell_type": "code",
   "execution_count": 48,
   "id": "bfda9b60-4115-423a-83bb-9f65f56c0f22",
   "metadata": {},
   "outputs": [
    {
     "data": {
      "text/plain": [
       "array([ 1,  4,  7, 10])"
      ]
     },
     "execution_count": 48,
     "metadata": {},
     "output_type": "execute_result"
    }
   ],
   "source": [
    "# np.arange(start, end+1, step+1)\n",
    "a1=np.arange(1,11,3)\n",
    "a1"
   ]
  },
  {
   "cell_type": "code",
   "execution_count": 49,
   "id": "84003aa4-21b3-4fde-9c56-fc708e7119b4",
   "metadata": {},
   "outputs": [
    {
     "name": "stdout",
     "output_type": "stream",
     "text": [
      "[10  9  8  7  6  5  4  3  2  1  0]\n"
     ]
    }
   ],
   "source": [
    "# np.arange()\n",
    "a=np.arange(11)\n",
    "print(a[::-1])"
   ]
  },
  {
   "cell_type": "code",
   "execution_count": 50,
   "id": "9e8ab744-7727-4166-8fc0-c260434f674f",
   "metadata": {},
   "outputs": [
    {
     "data": {
      "text/plain": [
       "array([[0.10678844, 0.62457369, 0.69236797],\n",
       "       [0.02969335, 0.72451727, 0.38951596],\n",
       "       [0.33083452, 0.15550978, 0.82575824],\n",
       "       [0.82618388, 0.85739752, 0.50458935],\n",
       "       [0.40428802, 0.28163881, 0.19243152]])"
      ]
     },
     "execution_count": 50,
     "metadata": {},
     "output_type": "execute_result"
    }
   ],
   "source": [
    "#Random Number\n",
    "#syntax: np.random.random((shape))\n",
    "r2=np.random.random((5,3))\n",
    "r2"
   ]
  },
  {
   "cell_type": "code",
   "execution_count": 51,
   "id": "db84f5c3-cece-4d2d-9433-eb0ea240bbbc",
   "metadata": {},
   "outputs": [
    {
     "data": {
      "text/plain": [
       "array([0.09244342, 0.02511094, 0.37223292])"
      ]
     },
     "execution_count": 51,
     "metadata": {},
     "output_type": "execute_result"
    }
   ],
   "source": [
    "r3=np.random.random((3))\n",
    "r3"
   ]
  },
  {
   "cell_type": "code",
   "execution_count": 52,
   "id": "3619d3ff-9bbe-4ecd-965d-77a19e7e71f9",
   "metadata": {},
   "outputs": [
    {
     "data": {
      "text/plain": [
       "array([[0.09742098, 0.21527755, 0.99669994, 0.25201665],\n",
       "       [0.15648871, 0.71787963, 0.26737206, 0.14676653],\n",
       "       [0.57917945, 0.73190066, 0.90389859, 0.69453716]])"
      ]
     },
     "execution_count": 52,
     "metadata": {},
     "output_type": "execute_result"
    }
   ],
   "source": [
    "r4=np.random.random((3,4))\n",
    "r4"
   ]
  },
  {
   "cell_type": "code",
   "execution_count": 53,
   "id": "35d87ec1-9cf5-4100-829e-7cf3682b7657",
   "metadata": {},
   "outputs": [
    {
     "data": {
      "text/plain": [
       "array([[10,  3],\n",
       "       [ 7,  3]])"
      ]
     },
     "execution_count": 53,
     "metadata": {},
     "output_type": "execute_result"
    }
   ],
   "source": [
    "r5=np.random.randint(1,11,(2,2))\n",
    "r5"
   ]
  },
  {
   "cell_type": "code",
   "execution_count": 54,
   "id": "4caea98d-f198-4946-9fb5-f52109faa35a",
   "metadata": {},
   "outputs": [
    {
     "data": {
      "text/plain": [
       "array([5, 6, 9, 9])"
      ]
     },
     "execution_count": 54,
     "metadata": {},
     "output_type": "execute_result"
    }
   ],
   "source": [
    "r6=np.random.randint(1,15,(4))\n",
    "r6"
   ]
  },
  {
   "cell_type": "code",
   "execution_count": 55,
   "id": "e7faf0ac-63cf-461f-921c-3eba0baedf5f",
   "metadata": {},
   "outputs": [
    {
     "data": {
      "text/plain": [
       "array([[1., 0., 0.],\n",
       "       [0., 1., 0.],\n",
       "       [0., 0., 1.]])"
      ]
     },
     "execution_count": 55,
     "metadata": {},
     "output_type": "execute_result"
    }
   ],
   "source": [
    "r2=np.identity(3)\n",
    "r2"
   ]
  },
  {
   "cell_type": "code",
   "execution_count": 56,
   "id": "ddb4357c-ce55-4f01-90ca-5ed9d601fd9a",
   "metadata": {},
   "outputs": [
    {
     "data": {
      "text/plain": [
       "array([[1, 0, 0],\n",
       "       [0, 1, 0],\n",
       "       [0, 0, 1]])"
      ]
     },
     "execution_count": 56,
     "metadata": {},
     "output_type": "execute_result"
    }
   ],
   "source": [
    "l1=np.identity(3,'int')\n",
    "l1"
   ]
  },
  {
   "cell_type": "code",
   "execution_count": 57,
   "id": "c18aff37-f0d2-4bbf-94a2-49d1e27d5dfe",
   "metadata": {},
   "outputs": [
    {
     "data": {
      "text/plain": [
       "array([ 5,  6,  1,  2,  9, 10,  8,  7])"
      ]
     },
     "execution_count": 57,
     "metadata": {},
     "output_type": "execute_result"
    }
   ],
   "source": [
    "a=np.array([5,6,1,2,9,10,8,7])\n",
    "a"
   ]
  },
  {
   "cell_type": "code",
   "execution_count": 58,
   "id": "8a90e6b1-0851-43a2-83c4-c89a3716a6e3",
   "metadata": {},
   "outputs": [
    {
     "data": {
      "text/plain": [
       "10"
      ]
     },
     "execution_count": 58,
     "metadata": {},
     "output_type": "execute_result"
    }
   ],
   "source": [
    "a.max()"
   ]
  },
  {
   "cell_type": "code",
   "execution_count": 59,
   "id": "3ed650cc-c390-4932-a50c-c9996c7c337b",
   "metadata": {},
   "outputs": [
    {
     "data": {
      "text/plain": [
       "1"
      ]
     },
     "execution_count": 59,
     "metadata": {},
     "output_type": "execute_result"
    }
   ],
   "source": [
    "a.min()"
   ]
  },
  {
   "cell_type": "code",
   "execution_count": 60,
   "id": "71321a96-17be-42a2-a405-bae44e10efaf",
   "metadata": {},
   "outputs": [
    {
     "data": {
      "text/plain": [
       "array([1, 2, 3, 4, 5])"
      ]
     },
     "execution_count": 60,
     "metadata": {},
     "output_type": "execute_result"
    }
   ],
   "source": [
    "a=np.array([1,2,3,4,5])\n",
    "a"
   ]
  },
  {
   "cell_type": "code",
   "execution_count": 61,
   "id": "90f405a4-8ff1-4863-aa2d-ad7699aa0036",
   "metadata": {},
   "outputs": [
    {
     "data": {
      "text/plain": [
       "3.0"
      ]
     },
     "execution_count": 61,
     "metadata": {},
     "output_type": "execute_result"
    }
   ],
   "source": [
    "np.mean(a)"
   ]
  },
  {
   "cell_type": "code",
   "execution_count": 62,
   "id": "1286b6e6-c57f-49f7-875b-efcd866e2025",
   "metadata": {},
   "outputs": [
    {
     "data": {
      "text/plain": [
       "3.0"
      ]
     },
     "execution_count": 62,
     "metadata": {},
     "output_type": "execute_result"
    }
   ],
   "source": [
    "np.median(a)"
   ]
  },
  {
   "cell_type": "code",
   "execution_count": 63,
   "id": "2ba90519-53f2-40f3-ab55-9d858637ffad",
   "metadata": {},
   "outputs": [
    {
     "data": {
      "text/plain": [
       "2.0"
      ]
     },
     "execution_count": 63,
     "metadata": {},
     "output_type": "execute_result"
    }
   ],
   "source": [
    "np.var(a)"
   ]
  },
  {
   "cell_type": "code",
   "execution_count": 64,
   "id": "404f9989-51a9-4e25-a37d-53f05e717e83",
   "metadata": {},
   "outputs": [
    {
     "data": {
      "text/plain": [
       "1.4142135623730951"
      ]
     },
     "execution_count": 64,
     "metadata": {},
     "output_type": "execute_result"
    }
   ],
   "source": [
    "np.std(a)"
   ]
  },
  {
   "cell_type": "code",
   "execution_count": 65,
   "id": "ea3114fc-17d3-4e1e-b93c-e1efff686a44",
   "metadata": {},
   "outputs": [
    {
     "name": "stdout",
     "output_type": "stream",
     "text": [
      "0    1\n",
      "1    2\n",
      "2    3\n",
      "3    4\n",
      "4    5\n",
      "dtype: int64\n"
     ]
    }
   ],
   "source": [
    "import pandas as pd\n",
    "\n",
    "my_list = [1, 2, 3, 4, 5]\n",
    "s = pd.Series(my_list)\n",
    "print(s)"
   ]
  },
  {
   "cell_type": "code",
   "execution_count": 66,
   "id": "6c5e21ec-5828-43e2-8ebd-fd4de98d50e8",
   "metadata": {},
   "outputs": [
    {
     "data": {
      "text/plain": [
       "array([[ 2,  3,  4],\n",
       "       [ 5,  6,  7],\n",
       "       [ 8,  9, 10]])"
      ]
     },
     "execution_count": 66,
     "metadata": {},
     "output_type": "execute_result"
    }
   ],
   "source": [
    "a=np.arange(2,11).reshape(3,3)\n",
    "a"
   ]
  },
  {
   "cell_type": "code",
   "execution_count": 67,
   "id": "44fe0ccf-baeb-482a-877e-50d670213966",
   "metadata": {},
   "outputs": [
    {
     "data": {
      "text/plain": [
       "(3, 3)"
      ]
     },
     "execution_count": 67,
     "metadata": {},
     "output_type": "execute_result"
    }
   ],
   "source": [
    "a.shape"
   ]
  },
  {
   "cell_type": "code",
   "execution_count": 68,
   "id": "1d9a24f0-cbaf-41b7-b202-0e634872bd5e",
   "metadata": {},
   "outputs": [
    {
     "name": "stdout",
     "output_type": "stream",
     "text": [
      "[ 5 10  2  8  3]\n"
     ]
    }
   ],
   "source": [
    "a = np.array([-5, -10, -2, -8, -3,])\n",
    "a = np.abs(a)\n",
    "print(a)"
   ]
  },
  {
   "cell_type": "code",
   "execution_count": 69,
   "id": "6e084c31-d8ba-4e06-8a5f-316900ca069a",
   "metadata": {},
   "outputs": [
    {
     "data": {
      "text/plain": [
       "array([ 2.,  1.,  9., 10.])"
      ]
     },
     "execution_count": 69,
     "metadata": {},
     "output_type": "execute_result"
    }
   ],
   "source": [
    "x=np.array([1.5,1.0,9.0,10.5])\n",
    "s=np.round(x)\n",
    "s"
   ]
  },
  {
   "cell_type": "code",
   "execution_count": 70,
   "id": "866d829c-a289-4d66-8252-8d0503b1c939",
   "metadata": {},
   "outputs": [],
   "source": [
    "import pandas as pd\n",
    "import numpy as np"
   ]
  },
  {
   "cell_type": "code",
   "execution_count": 71,
   "id": "8416cb68-5731-4a24-84fd-ce6a5b4a2573",
   "metadata": {},
   "outputs": [
    {
     "data": {
      "text/plain": [
       "array([[1, 2, 3],\n",
       "       [4, 5, 6],\n",
       "       [7, 8, 9]])"
      ]
     },
     "execution_count": 71,
     "metadata": {},
     "output_type": "execute_result"
    }
   ],
   "source": [
    "l1=np.array([[1,2,3],[4,5,6],[7,8,9]])\n",
    "l1"
   ]
  },
  {
   "cell_type": "code",
   "execution_count": 72,
   "id": "93a72825-7380-48e7-bbd7-eb8202718614",
   "metadata": {},
   "outputs": [
    {
     "data": {
      "text/html": [
       "<div>\n",
       "<style scoped>\n",
       "    .dataframe tbody tr th:only-of-type {\n",
       "        vertical-align: middle;\n",
       "    }\n",
       "\n",
       "    .dataframe tbody tr th {\n",
       "        vertical-align: top;\n",
       "    }\n",
       "\n",
       "    .dataframe thead th {\n",
       "        text-align: right;\n",
       "    }\n",
       "</style>\n",
       "<table border=\"1\" class=\"dataframe\">\n",
       "  <thead>\n",
       "    <tr style=\"text-align: right;\">\n",
       "      <th></th>\n",
       "      <th>0</th>\n",
       "      <th>1</th>\n",
       "      <th>2</th>\n",
       "    </tr>\n",
       "  </thead>\n",
       "  <tbody>\n",
       "    <tr>\n",
       "      <th>0</th>\n",
       "      <td>1</td>\n",
       "      <td>2</td>\n",
       "      <td>3</td>\n",
       "    </tr>\n",
       "    <tr>\n",
       "      <th>1</th>\n",
       "      <td>4</td>\n",
       "      <td>5</td>\n",
       "      <td>6</td>\n",
       "    </tr>\n",
       "    <tr>\n",
       "      <th>2</th>\n",
       "      <td>7</td>\n",
       "      <td>8</td>\n",
       "      <td>9</td>\n",
       "    </tr>\n",
       "  </tbody>\n",
       "</table>\n",
       "</div>"
      ],
      "text/plain": [
       "   0  1  2\n",
       "0  1  2  3\n",
       "1  4  5  6\n",
       "2  7  8  9"
      ]
     },
     "execution_count": 72,
     "metadata": {},
     "output_type": "execute_result"
    }
   ],
   "source": [
    "df=pd.DataFrame(l1.reshape(3,3))\n",
    "df"
   ]
  },
  {
   "cell_type": "code",
   "execution_count": 73,
   "id": "7d271b24-0225-4f20-9f70-c9d0786a79e0",
   "metadata": {},
   "outputs": [],
   "source": [
    "import pandas as pd"
   ]
  },
  {
   "cell_type": "code",
   "execution_count": 74,
   "id": "86cbb0f3-4bf4-44f6-8ce5-8fd3a8265125",
   "metadata": {},
   "outputs": [
    {
     "data": {
      "text/plain": [
       "0    1\n",
       "1    2\n",
       "2    3\n",
       "3    4\n",
       "4    5\n",
       "dtype: int64"
      ]
     },
     "execution_count": 74,
     "metadata": {},
     "output_type": "execute_result"
    }
   ],
   "source": [
    "l1=[1,2,3,4,5]\n",
    "l1=pd.Series(l1)\n",
    "l1"
   ]
  },
  {
   "cell_type": "code",
   "execution_count": 76,
   "id": "717f58ae-cf10-4377-8c6b-79b03623fdec",
   "metadata": {},
   "outputs": [],
   "source": [
    "import pandas as pd"
   ]
  },
  {
   "cell_type": "code",
   "execution_count": 81,
   "id": "6161f584-a52f-4083-b304-337b452461b1",
   "metadata": {},
   "outputs": [],
   "source": [
    "import numpy as np"
   ]
  },
  {
   "cell_type": "code",
   "execution_count": 85,
   "id": "6e6787c8-9057-4406-94a5-7e22f90d5a5f",
   "metadata": {},
   "outputs": [
    {
     "name": "stdout",
     "output_type": "stream",
     "text": [
      "0    1\n",
      "1    2\n",
      "2    3\n",
      "3    4\n",
      "dtype: int32\n"
     ]
    }
   ],
   "source": [
    "s1=np.array([1,2,3,4,])\n",
    "s1 = pd.Series(s1)\n",
    "print(s1)"
   ]
  },
  {
   "cell_type": "code",
   "execution_count": 88,
   "id": "2cbe654f-ce08-4676-805a-20513444a211",
   "metadata": {},
   "outputs": [
    {
     "name": "stdout",
     "output_type": "stream",
     "text": [
      "a    100\n",
      "b    200\n",
      "c    300\n",
      "dtype: int64\n"
     ]
    }
   ],
   "source": [
    "d= {'a': 100, 'b': 200, 'c': 300}\n",
    "d = pd.Series(d)\n",
    "print(d)"
   ]
  }
 ],
 "metadata": {
  "kernelspec": {
   "display_name": "Python 3 (ipykernel)",
   "language": "python",
   "name": "python3"
  },
  "language_info": {
   "codemirror_mode": {
    "name": "ipython",
    "version": 3
   },
   "file_extension": ".py",
   "mimetype": "text/x-python",
   "name": "python",
   "nbconvert_exporter": "python",
   "pygments_lexer": "ipython3",
   "version": "3.12.4"
  }
 },
 "nbformat": 4,
 "nbformat_minor": 5
}
