{
 "cells": [
  {
   "cell_type": "code",
   "execution_count": 1,
   "id": "e2ff6f11-4f9d-492d-b436-ce51b110d181",
   "metadata": {},
   "outputs": [],
   "source": [
    "import pandas as pd"
   ]
  },
  {
   "cell_type": "code",
   "execution_count": 2,
   "id": "eb66d4f3-3942-4a67-854b-5d9ef85d2d60",
   "metadata": {},
   "outputs": [],
   "source": [
    "#series\n",
    "#pd.series"
   ]
  },
  {
   "cell_type": "code",
   "execution_count": 3,
   "id": "89a53c4c-2411-4e9d-a2cd-bfee21abe003",
   "metadata": {},
   "outputs": [
    {
     "data": {
      "text/plain": [
       "0      1\n",
       "1      2\n",
       "2    2.0\n",
       "3    3.4\n",
       "4    One\n",
       "5    two\n",
       "dtype: object"
      ]
     },
     "execution_count": 3,
     "metadata": {},
     "output_type": "execute_result"
    }
   ],
   "source": [
    "li=[1,2,2.0,3.4,'One','two']\n",
    "s1=pd.Series(li)\n",
    "s1"
   ]
  },
  {
   "cell_type": "code",
   "execution_count": 4,
   "id": "d438e24f-4f6d-45a2-8b95-7615b2a98b79",
   "metadata": {},
   "outputs": [
    {
     "data": {
      "text/plain": [
       "0           1\n",
       "1          10\n",
       "2          99\n",
       "3          34\n",
       "4          53\n",
       "5      nokesh\n",
       "6         mca\n",
       "7    alliance\n",
       "dtype: object"
      ]
     },
     "execution_count": 4,
     "metadata": {},
     "output_type": "execute_result"
    }
   ],
   "source": [
    "li=[1,10,99,34,53,'nokesh','mca','alliance']\n",
    "s1=pd.Series(li)\n",
    "s1"
   ]
  },
  {
   "cell_type": "code",
   "execution_count": 5,
   "id": "2c652431-0612-4d15-b4eb-492e36991760",
   "metadata": {},
   "outputs": [
    {
     "data": {
      "text/plain": [
       "0        1\n",
       "1        2\n",
       "2      2.0\n",
       "3      3.4\n",
       "4      One\n",
       "5      two\n",
       "6     True\n",
       "7    False\n",
       "dtype: object"
      ]
     },
     "execution_count": 5,
     "metadata": {},
     "output_type": "execute_result"
    }
   ],
   "source": [
    "li=[1,2,2.0,3.4,'One','two','True','False',]\n",
    "s1=pd.Series(li)\n",
    "s1"
   ]
  },
  {
   "cell_type": "code",
   "execution_count": 6,
   "id": "92cef8fc-229e-4995-b7cd-6692cfa657cd",
   "metadata": {},
   "outputs": [
    {
     "data": {
      "text/plain": [
       "0        1.000\n",
       "1        2.000\n",
       "2        2.000\n",
       "3      232.000\n",
       "4       34.324\n",
       "5      556.000\n",
       "6     6556.540\n",
       "7    42342.000\n",
       "dtype: float64"
      ]
     },
     "execution_count": 6,
     "metadata": {},
     "output_type": "execute_result"
    }
   ],
   "source": [
    "li=[1,2,2.0,232,34.324,556,6556.54,42342]\n",
    "s1=pd.Series(li)\n",
    "s1"
   ]
  },
  {
   "cell_type": "code",
   "execution_count": 2,
   "id": "aef3ff55-2d94-4ebb-9fdc-387f72aba614",
   "metadata": {},
   "outputs": [
    {
     "ename": "SyntaxError",
     "evalue": "unmatched ')' (2049180509.py, line 2)",
     "output_type": "error",
     "traceback": [
      "\u001b[1;36m  Cell \u001b[1;32mIn[2], line 2\u001b[1;36m\u001b[0m\n\u001b[1;33m    l2=pd.Series index1=([21,32,43,44,]))],index2=([32,34,56,65])\u001b[0m\n\u001b[1;37m                                        ^\u001b[0m\n\u001b[1;31mSyntaxError\u001b[0m\u001b[1;31m:\u001b[0m unmatched ')'\n"
     ]
    }
   ],
   "source": [
    "import pandas as pd\n",
    "l2=pd.Series index1=([21,32,43,44,]))],index2=([32,34,56,65])\n",
    "s1=pd.Series(s2)\n",
    "s1"
   ]
  },
  {
   "cell_type": "code",
   "execution_count": 18,
   "id": "c2e50713-dbb6-48c1-a35c-addff99d5c92",
   "metadata": {},
   "outputs": [
    {
     "name": "stdout",
     "output_type": "stream",
     "text": [
      "    x   y   z\n",
      "0  10  10  10\n",
      "1  20  20  20\n",
      "2  30  30  30\n",
      "3  40  40  40\n",
      "4  50  50  50\n"
     ]
    }
   ],
   "source": [
    "data={\n",
    "    'x':[10,20,30,40,50],\n",
    "    'y':[10,20,30,40,50],\n",
    "    'z':[10,20,30,40,50]}\n",
    "df=pd.DataFrame(data)\n",
    "print(df)"
   ]
  },
  {
   "cell_type": "code",
   "execution_count": 20,
   "id": "67da8556-3d4e-44df-9865-cbb87f7282e8",
   "metadata": {},
   "outputs": [
    {
     "data": {
      "text/html": [
       "<div>\n",
       "<style scoped>\n",
       "    .dataframe tbody tr th:only-of-type {\n",
       "        vertical-align: middle;\n",
       "    }\n",
       "\n",
       "    .dataframe tbody tr th {\n",
       "        vertical-align: top;\n",
       "    }\n",
       "\n",
       "    .dataframe thead th {\n",
       "        text-align: right;\n",
       "    }\n",
       "</style>\n",
       "<table border=\"1\" class=\"dataframe\">\n",
       "  <thead>\n",
       "    <tr style=\"text-align: right;\">\n",
       "      <th></th>\n",
       "      <th>Name</th>\n",
       "      <th>Age</th>\n",
       "      <th>City</th>\n",
       "      <th>Marks</th>\n",
       "    </tr>\n",
       "  </thead>\n",
       "  <tbody>\n",
       "    <tr>\n",
       "      <th>0</th>\n",
       "      <td>John</td>\n",
       "      <td>50</td>\n",
       "      <td>Austin</td>\n",
       "      <td>70</td>\n",
       "    </tr>\n",
       "    <tr>\n",
       "      <th>1</th>\n",
       "      <td>Cataline</td>\n",
       "      <td>45</td>\n",
       "      <td>San Franscisco</td>\n",
       "      <td>80</td>\n",
       "    </tr>\n",
       "    <tr>\n",
       "      <th>2</th>\n",
       "      <td>matt</td>\n",
       "      <td>30</td>\n",
       "      <td>Boston</td>\n",
       "      <td>95</td>\n",
       "    </tr>\n",
       "  </tbody>\n",
       "</table>\n",
       "</div>"
      ],
      "text/plain": [
       "       Name  Age            City  Marks\n",
       "0      John   50          Austin     70\n",
       "1  Cataline   45  San Franscisco     80\n",
       "2      matt   30          Boston     95"
      ]
     },
     "execution_count": 20,
     "metadata": {},
     "output_type": "execute_result"
    }
   ],
   "source": [
    "d2={'Name':['John','Cataline','matt'],'Age':[50,45,30],'City':['Austin','San Franscisco','Boston'],'Marks':[70,80,95]}\n",
    "df2=pd.DataFrame(d2)\n",
    "df2"
   ]
  },
  {
   "cell_type": "code",
   "execution_count": 21,
   "id": "93c5e43e-f11b-4e19-9a29-f9d39fc777e4",
   "metadata": {},
   "outputs": [
    {
     "data": {
      "text/plain": [
       "{'Name': ['John', 'Cataline', 'matt'],\n",
       " 'Age': [50, 45, 30],\n",
       " 'City': ['Austin', 'San Franscisco', 'Boston'],\n",
       " 'Marks': [70, 80, 95]}"
      ]
     },
     "execution_count": 21,
     "metadata": {},
     "output_type": "execute_result"
    }
   ],
   "source": [
    "df={'Name':['John','Cataline','matt'],'Age':[50,45,30],'City':['Austin','San Franscisco','Boston'],'Marks':[70,80,95]}\n",
    "s1=pd.DataFrame(li)\n",
    "df"
   ]
  },
  {
   "cell_type": "code",
   "execution_count": 22,
   "id": "8dbc71d0-97ae-47d4-9958-1435ea578978",
   "metadata": {},
   "outputs": [
    {
     "data": {
      "text/html": [
       "<div>\n",
       "<style scoped>\n",
       "    .dataframe tbody tr th:only-of-type {\n",
       "        vertical-align: middle;\n",
       "    }\n",
       "\n",
       "    .dataframe tbody tr th {\n",
       "        vertical-align: top;\n",
       "    }\n",
       "\n",
       "    .dataframe thead th {\n",
       "        text-align: right;\n",
       "    }\n",
       "</style>\n",
       "<table border=\"1\" class=\"dataframe\">\n",
       "  <thead>\n",
       "    <tr style=\"text-align: right;\">\n",
       "      <th></th>\n",
       "      <th>Name</th>\n",
       "      <th>Age</th>\n",
       "      <th>City</th>\n",
       "      <th>Marks</th>\n",
       "    </tr>\n",
       "  </thead>\n",
       "  <tbody>\n",
       "    <tr>\n",
       "      <th>0</th>\n",
       "      <td>John</td>\n",
       "      <td>25</td>\n",
       "      <td>Cataline</td>\n",
       "      <td>70</td>\n",
       "    </tr>\n",
       "    <tr>\n",
       "      <th>1</th>\n",
       "      <td>Cataline</td>\n",
       "      <td>30</td>\n",
       "      <td>San Franscio</td>\n",
       "      <td>80</td>\n",
       "    </tr>\n",
       "    <tr>\n",
       "      <th>2</th>\n",
       "      <td>Matt</td>\n",
       "      <td>35</td>\n",
       "      <td>Boston</td>\n",
       "      <td>90</td>\n",
       "    </tr>\n",
       "  </tbody>\n",
       "</table>\n",
       "</div>"
      ],
      "text/plain": [
       "       Name  Age          City  Marks\n",
       "0      John   25      Cataline     70\n",
       "1  Cataline   30  San Franscio     80\n",
       "2      Matt   35        Boston     90"
      ]
     },
     "execution_count": 22,
     "metadata": {},
     "output_type": "execute_result"
    }
   ],
   "source": [
    "data=[['John',25,'Cataline',70],\n",
    "      ['Cataline',30,'San Franscio',80],\n",
    "      ['Matt',35,'Boston',90]]\n",
    "columns=['Name','Age','City','Marks']\n",
    "\n",
    "df=pd.DataFrame(data,columns=columns)\n",
    "df\n"
   ]
  },
  {
   "cell_type": "code",
   "execution_count": 24,
   "id": "ac3bde88-b7b8-47fe-84f8-a36113d4bf69",
   "metadata": {},
   "outputs": [
    {
     "data": {
      "text/html": [
       "<div>\n",
       "<style scoped>\n",
       "    .dataframe tbody tr th:only-of-type {\n",
       "        vertical-align: middle;\n",
       "    }\n",
       "\n",
       "    .dataframe tbody tr th {\n",
       "        vertical-align: top;\n",
       "    }\n",
       "\n",
       "    .dataframe thead th {\n",
       "        text-align: right;\n",
       "    }\n",
       "</style>\n",
       "<table border=\"1\" class=\"dataframe\">\n",
       "  <thead>\n",
       "    <tr style=\"text-align: right;\">\n",
       "      <th></th>\n",
       "      <th>Product</th>\n",
       "      <th>price</th>\n",
       "      <th>In stock</th>\n",
       "    </tr>\n",
       "  </thead>\n",
       "  <tbody>\n",
       "    <tr>\n",
       "      <th>p1</th>\n",
       "      <td>Laptop</td>\n",
       "      <td>1200</td>\n",
       "      <td>True</td>\n",
       "    </tr>\n",
       "    <tr>\n",
       "      <th>p2</th>\n",
       "      <td>Tablet</td>\n",
       "      <td>300</td>\n",
       "      <td>False</td>\n",
       "    </tr>\n",
       "    <tr>\n",
       "      <th>p3</th>\n",
       "      <td>Smartphone</td>\n",
       "      <td>800</td>\n",
       "      <td>True</td>\n",
       "    </tr>\n",
       "    <tr>\n",
       "      <th>p4</th>\n",
       "      <td>printer</td>\n",
       "      <td>150</td>\n",
       "      <td>True</td>\n",
       "    </tr>\n",
       "  </tbody>\n",
       "</table>\n",
       "</div>"
      ],
      "text/plain": [
       "       Product  price  In stock\n",
       "p1      Laptop   1200      True\n",
       "p2      Tablet    300     False\n",
       "p3  Smartphone    800      True\n",
       "p4     printer    150      True"
      ]
     },
     "execution_count": 24,
     "metadata": {},
     "output_type": "execute_result"
    }
   ],
   "source": [
    "data={'Product':['Laptop','Tablet','Smartphone','printer'],\n",
    "      'price':[1200,300,800,150],\n",
    "      'In stock':[True,False,True,True]}\n",
    "df=pd.DataFrame(data,index=['p1','p2','p3','p4'])\n",
    "df"
   ]
  },
  {
   "cell_type": "code",
   "execution_count": null,
   "id": "dff9ecc4-8ef2-4a96-9879-a7048a4b904a",
   "metadata": {},
   "outputs": [],
   "source": []
  }
 ],
 "metadata": {
  "kernelspec": {
   "display_name": "Python 3 (ipykernel)",
   "language": "python",
   "name": "python3"
  },
  "language_info": {
   "codemirror_mode": {
    "name": "ipython",
    "version": 3
   },
   "file_extension": ".py",
   "mimetype": "text/x-python",
   "name": "python",
   "nbconvert_exporter": "python",
   "pygments_lexer": "ipython3",
   "version": "3.12.4"
  }
 },
 "nbformat": 4,
 "nbformat_minor": 5
}
